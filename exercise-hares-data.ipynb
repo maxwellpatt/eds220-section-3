{
 "cells": [
  {
   "cell_type": "markdown",
   "id": "abb81dab-c4d1-4bdc-81a3-8fd3d1af7d48",
   "metadata": {},
   "source": [
    "## 9.1: Archive Exploration\n",
    "\n",
    "The data is about capture-recapture studies of snowshoe hares at 5 locales in the Tanana valley, from Tok in the east to Clear in the west from 1999 to 2002. There is no sensitive data. The data was published in 2017 by Bonanza Creek.\n",
    "\n",
    "Kielland, K., F.S. Chapin, R.W. Ruess, and Bonanza Creek LTER. 2017. Snowshoe hare physical data in Bonanza Creek Experimental Forest: 1999-Present ver 22. Environmental Data Initiative. https://doi.org/10.6073/pasta/03dce4856d79b91557d8e6ce2cbcdc14 (Accessed 2023-10-19). Accessed 19 October 2023.\n",
    "\n",
    "![Snowshoe hare](https://en.wikipedia.org/wiki/File:Snowshoe_Hare,_Shirleys_Bay.jpg)"
   ]
  },
  {
   "cell_type": "code",
   "execution_count": 16,
   "id": "0bfea4d4-68dd-434f-8b83-d8ac1e400cd5",
   "metadata": {
    "tags": []
   },
   "outputs": [
    {
     "data": {
      "text/plain": [
       "<bound method NDFrame.head of             date      time    grid trap       l_ear r_ear  sex  age  weight  \\\n",
       "0     11/26/1998       NaN  bonrip   1A  414D096A08   NaN  NaN  NaN  1370.0   \n",
       "1     11/26/1998       NaN  bonrip   2C  414D320671   NaN    M  NaN  1430.0   \n",
       "2     11/26/1998       NaN  bonrip   2D  414D103E3A   NaN    M  NaN  1430.0   \n",
       "3     11/26/1998       NaN  bonrip   2E  414D262D43   NaN  NaN  NaN  1490.0   \n",
       "4     11/26/1998       NaN  bonrip   3B  414D2B4B58   NaN  NaN  NaN  1710.0   \n",
       "...          ...       ...     ...  ...         ...   ...  ...  ...     ...   \n",
       "3375    8/8/2002  18:00:00  bonrip  1b         1201  1202  NaN  NaN  1400.0   \n",
       "3376    8/8/2002   6:00:00  bonrip  4b         1201  1202  NaN  NaN     NaN   \n",
       "3377    8/7/2002       NaN  bonrip   4b        1217  1218  NaN  NaN  1000.0   \n",
       "3378    8/8/2002       NaN  bonrip   6d        1217  1218  NaN  NaN   990.0   \n",
       "3379    8/6/2002       NaN  bonrip   4b        1058  1060    M  NaN  1460.0   \n",
       "\n",
       "      hindft notes  b_key  session_id       study  \n",
       "0      160.0   NaN  917.0          51  Population  \n",
       "1        NaN   NaN  936.0          51  Population  \n",
       "2        NaN   NaN  921.0          51  Population  \n",
       "3      135.0   NaN  931.0          51  Population  \n",
       "4      150.0   NaN  933.0          51  Population  \n",
       "...      ...   ...    ...         ...         ...  \n",
       "3375     NaN   NaN   63.0          64  Population  \n",
       "3376     NaN   NaN   63.0          64  Population  \n",
       "3377   134.0   NaN   69.0          64  Population  \n",
       "3378     NaN   NaN   69.0          64  Population  \n",
       "3379   119.0   NaN   32.0          64  Population  \n",
       "\n",
       "[3380 rows x 14 columns]>"
      ]
     },
     "execution_count": 16,
     "metadata": {},
     "output_type": "execute_result"
    }
   ],
   "source": [
    "import pandas as pd\n",
    "import numpy as np\n",
    "\n",
    "hares = pd.read_csv(\"https://portal.edirepository.org/nis/dataviewer?packageid=knb-lter-bnz.55.22&entityid=f01f5d71be949b8c700b6ecd1c42c701\")\n",
    "\n",
    "hares.head"
   ]
  },
  {
   "cell_type": "code",
   "execution_count": 13,
   "id": "5c4f15b3-cff6-4744-86a4-fc09b512a7f3",
   "metadata": {
    "tags": []
   },
   "outputs": [
    {
     "data": {
      "text/plain": [
       "array([nan, 'M', 'F', '?', 'F?', 'M?', 'pf', 'm', 'f', 'f?', 'm?', 'f ',\n",
       "       'm '], dtype=object)"
      ]
     },
     "execution_count": 13,
     "metadata": {},
     "output_type": "execute_result"
    }
   ],
   "source": [
    "sex_value_count = hares.sex.value_counts(dropna = False)\n",
    "\n",
    "unique_sex = hares.sex.unique()\n",
    "\n",
    "unique_sex"
   ]
  },
  {
   "cell_type": "code",
   "execution_count": 20,
   "id": "f3b2cfc1-ae69-4e29-9e76-f8b45fa1307a",
   "metadata": {
    "tags": []
   },
   "outputs": [
    {
     "name": "stdout",
     "output_type": "stream",
     "text": [
      "['nan' 'male' 'female']\n"
     ]
    }
   ],
   "source": [
    "# Define conditions for categorizing sex:\n",
    "# 1. Check if the 'sex' column, when converted to uppercase, is 'F'\n",
    "# 2. Check if the 'sex' column, when converted to uppercase, is 'M'\n",
    "conditions = [\n",
    "    hares['sex'].str.upper() == 'F',\n",
    "    hares['sex'].str.upper() == 'M'\n",
    "]\n",
    "\n",
    "# Define the corresponding choices for the conditions:\n",
    "# 1. If the condition for 'F' is met, assign 'female'\n",
    "# 2. If the condition for 'M' is met, assign 'male'\n",
    "choices = ['female', 'male']\n",
    "\n",
    "# Create new column using np.select\n",
    "hares['sex_simple'] = np.select(conditions, choices, default=np.nan)\n",
    "\n",
    "print(hares.sex_simple.unique())"
   ]
  },
  {
   "cell_type": "code",
   "execution_count": 21,
   "id": "c6ecbdb7-ebb7-461d-8324-dc56ad88b196",
   "metadata": {
    "tags": []
   },
   "outputs": [
    {
     "name": "stdout",
     "output_type": "stream",
     "text": [
      "sex_simple\n",
      "female    1366.920372\n",
      "male      1352.145553\n",
      "nan       1176.511111\n",
      "Name: weight, dtype: float64\n"
     ]
    }
   ],
   "source": [
    "mean_weight_by_sex = hares.groupby('sex_simple')['weight'].mean()\n",
    "\n",
    "print(mean_weight_by_sex)"
   ]
  }
 ],
 "metadata": {
  "kernelspec": {
   "display_name": "Anaconda 3 (Base)",
   "language": "python",
   "name": "base"
  },
  "language_info": {
   "codemirror_mode": {
    "name": "ipython",
    "version": 3
   },
   "file_extension": ".py",
   "mimetype": "text/x-python",
   "name": "python",
   "nbconvert_exporter": "python",
   "pygments_lexer": "ipython3",
   "version": "3.9.13"
  }
 },
 "nbformat": 4,
 "nbformat_minor": 5
}
