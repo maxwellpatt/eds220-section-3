{
 "cells": [
  {
   "cell_type": "markdown",
   "id": "abb81dab-c4d1-4bdc-81a3-8fd3d1af7d48",
   "metadata": {},
   "source": [
    "## 9.1: Archive Exploration\n",
    "\n",
    "The data is about capture-recapture studies of snowshoe hares at 5 locales in the Tanana valley, from Tok in the east to Clear in the west from 1999 to 2002. There is no sensitive data. The data was published in 2017 by Bonanza Creek.\n",
    "\n",
    "Kielland, K., F.S. Chapin, R.W. Ruess, and Bonanza Creek LTER. 2017. Snowshoe hare physical data in Bonanza Creek Experimental Forest: 1999-Present ver 22. Environmental Data Initiative. https://doi.org/10.6073/pasta/03dce4856d79b91557d8e6ce2cbcdc14 (Accessed 2023-10-19). Accessed 19 October 2023.\n",
    "\n",
    "![Snowshoe hare](https://en.wikipedia.org/wiki/File:Snowshoe_Hare,_Shirleys_Bay.jpg)"
   ]
  },
  {
   "cell_type": "code",
   "execution_count": null,
   "id": "0bfea4d4-68dd-434f-8b83-d8ac1e400cd5",
   "metadata": {
    "tags": []
   },
   "outputs": [
    {
     "ename": "SyntaxError",
     "evalue": "invalid syntax (3426940594.py, line 3)",
     "output_type": "error",
     "traceback": [
      "\u001b[0;36m  File \u001b[0;32m\"/tmp/ipykernel_1206941/3426940594.py\"\u001b[0;36m, line \u001b[0;32m3\u001b[0m\n\u001b[0;31m    hares = pd.read_csv(https://portal.edirepository.org/nis/dataviewer?packageid=knb-lter-bnz.55.22&entityid=f01f5d71be949b8c700b6ecd1c42c701)\u001b[0m\n\u001b[0m                             ^\u001b[0m\n\u001b[0;31mSyntaxError\u001b[0m\u001b[0;31m:\u001b[0m invalid syntax\n"
     ]
    }
   ],
   "source": [
    "import pandas as pd\n",
    "\n",
    "hares = pd.read_csv()\n"
   ]
  }
 ],
 "metadata": {
  "kernelspec": {
   "display_name": "Anaconda 3 (Base)",
   "language": "python",
   "name": "base"
  },
  "language_info": {
   "codemirror_mode": {
    "name": "ipython",
    "version": 3
   },
   "file_extension": ".py",
   "mimetype": "text/x-python",
   "name": "python",
   "nbconvert_exporter": "python",
   "pygments_lexer": "ipython3",
   "version": "3.9.13"
  }
 },
 "nbformat": 4,
 "nbformat_minor": 5
}
